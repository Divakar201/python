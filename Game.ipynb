{
 "cells": [
  {
   "cell_type": "code",
   "execution_count": 48,
   "metadata": {},
   "outputs": [
    {
     "name": "stdout",
     "output_type": "stream",
     "text": [
      "aa\n",
      "bb\n",
      "cc\n",
      "All Done\n"
     ]
    }
   ],
   "source": [
    "try:\n",
    "    for i in ['a','b','c']:\n",
    "        print(i*2)\n",
    "except:\n",
    "    print(\"string can't be squared\")\n",
    "finally:\n",
    "    print(\"All Done\")\n",
    "\n",
    "\n"
   ]
  },
  {
   "cell_type": "code",
   "execution_count": 49,
   "metadata": {},
   "outputs": [
    {
     "name": "stdout",
     "output_type": "stream",
     "text": [
      "Divide by zero exception\n",
      "All done\n"
     ]
    }
   ],
   "source": [
    "try:\n",
    "    x=5\n",
    "    y=0\n",
    "    z=x/y\n",
    "except:\n",
    "    print('Divide by zero exception')\n",
    "finally:\n",
    "    print('All done')"
   ]
  },
  {
   "cell_type": "code",
   "execution_count": 3,
   "metadata": {},
   "outputs": [],
   "source": [
    "def ask():\n",
    "    while(1):\n",
    "        try:\n",
    "            x=int(input(\"enter an integer\"))\n",
    "        except:\n",
    "            print(\"Invalid entry try again\")\n",
    "        else:\n",
    "            print(f\"your value is {x**2}\")\n",
    "            break"
   ]
  },
  {
   "cell_type": "code",
   "execution_count": 4,
   "metadata": {},
   "outputs": [
    {
     "name": "stdout",
     "output_type": "stream",
     "text": [
      "enter an integer6\n",
      "your value is 36\n"
     ]
    }
   ],
   "source": [
    "ask()"
   ]
  },
  {
   "cell_type": "markdown",
   "metadata": {},
   "source": [
    "#GAME"
   ]
  },
  {
   "cell_type": "markdown",
   "metadata": {},
   "source": [
    "# ###GAME-TIC TAC"
   ]
  },
  {
   "cell_type": "code",
   "execution_count": 3,
   "metadata": {},
   "outputs": [],
   "source": [
    "from IPython.display import clear_output\n",
    "def boar(li):\n",
    "    clear_output()\n",
    "    board={'level1':'  {0}  |  {1}  |  {2}  '.format(li[0],li[1],li[2]),'underscore':'_ _ _ _ _ _ _ _ _','space':'     |     |     ','level2':'  {0}  |  {1}  |  {2}  '.format(li[3],li[4],li[5]),'level3':'  {0}  |  {1}  |  {2}  '.format(li[6],li[7],li[8])}\n",
    "    print(board['space'])\n",
    "    print(board['level1'])\n",
    "    print(board['space'])\n",
    "    print(board['underscore'])\n",
    "    print(board['space'])\n",
    "    print(board['level2'])\n",
    "    print(board['space'])\n",
    "    print(board['underscore'])\n",
    "    print(board['space'])\n",
    "    print(board['level3'])\n",
    "    print(board['space'])\n",
    "def input_1_9():\n",
    "    X=[' ',' ',' ',' ',' ',' ',' ',' ',' ']\n",
    "    clear_output()\n",
    "    firstplayermark=[]\n",
    "    secondplayermark=[]\n",
    "    turns=1\n",
    "    while(1):\n",
    "        mark=input('please choose X or O ?').upper()\n",
    "        if mark=='X':\n",
    "            firstplayermark=mark\n",
    "            secondplayermark='O'\n",
    "            print(f'First played choosed {firstplayermark}')\n",
    "            print(f'Second played choosed {secondplayermark}')\n",
    "            break\n",
    "        elif mark=='O':\n",
    "            firstplayermark='O'\n",
    "            secondplayermark='X'\n",
    "            print(f'First played choosed {firstplayermark}')\n",
    "            print(f'Second played choosed {secondplayermark}')\n",
    "            break\n",
    "        else:\n",
    "            print(\"please choose correct Mark\")\n",
    "    while(turns<=10):\n",
    "        print(turns)\n",
    "        if((X[0]==X[1]==X[2]==\"O\" ) or (X[3]==X[4]==X[5]==\"O\" ) or (X[6]==X[7]==X[8]==\"O\" ) or (X[0]==X[3]==X[6]==\"O\" ) or (X[1]==X[4]==X[7]==\"O\" ) or (X[2]==X[5]==X[8]==\"O\" ) or (X[0]==X[4]==X[8]==\"O\" ) or (X[2]==X[4]==X[6]==\"O\" )):\n",
    "            if(firstplayermark=='O'):\n",
    "                print(\"Congratulations to player 1, you won\")\n",
    "                k=[]\n",
    "                k=input('Do You wanna play one time? if yes choose \"Y\" else no \"N\"')\n",
    "                if(k=='Y'):\n",
    "                    input_1_9()\n",
    "                elif(k=='N'):\n",
    "                    print('Thanks')\n",
    "                    break\n",
    "            elif(secondplayermark=='X'):\n",
    "                print(\"Congratulations to player 2, you won\")\n",
    "                k=[]\n",
    "                k=input('Do You wanna play one time? if yes choose \"Y\" else no \"N\"')\n",
    "                if(k=='Y'):\n",
    "                    input_1_9()\n",
    "                elif(k=='N'):\n",
    "                    print('Thanks')\n",
    "                    break\n",
    "        elif((X[0]==X[1]==X[2]==\"X\") or (X[3]==X[4]==X[5]==\"X\") or (X[6]==X[7]==X[8]==\"X\") or (X[0]==X[3]==X[6]==\"X\") or (X[1]==X[4]==X[7]==\"X\") or (X[2]==X[5]==X[8]==\"X\") or (X[0]==X[4]==X[8]==\"X\") or (X[2]==X[4]==X[6]==\"X\")):\n",
    "            if(firstplayermark=='X'):\n",
    "                print(\"Congratulations to player 1, you won\")\n",
    "                k=[]\n",
    "                k=input('Do You wanna play one time? if yes choose \"Y\" else no \"N\"')\n",
    "                if(k=='Y'):\n",
    "                    input_1_9()\n",
    "                elif(k=='N'):\n",
    "                    print('Thanks')\n",
    "                    break\n",
    "            elif(secondplayermark=='X'):\n",
    "                print(\"Congratulations to player 2, you won\")\n",
    "                k=[]\n",
    "                k=input('Do You wanna play one time? if yes choose \"Y\" else no \"N\"')\n",
    "                if(k=='Y'):\n",
    "                    input_1_9()\n",
    "                elif(k=='N'):\n",
    "                    print('Thanks')\n",
    "                    break\n",
    "        else:\n",
    "            if(turns%2!=0):\n",
    "                print('First players turn')\n",
    "                x=int(input(\"Please Choose a Number in 1 to 9\"))\n",
    "                if(X[x-1]!=\" \"):\n",
    "                    print(\"position is filled please choose other\")\n",
    "                elif(firstplayermark=='X'):\n",
    "                    turns+=1\n",
    "                    X[x-1]='X'\n",
    "                    boar(X)\n",
    "                elif(firstplayermark=='O'):\n",
    "                    turns+=1\n",
    "                    X[x-1]='O'\n",
    "                    boar(X)\n",
    "            elif(turns%2==0 and turns!=10):\n",
    "                print('Second players turn')\n",
    "                x=int(input(\"Please Choose a Number in 1 to 9\"))\n",
    "                if(X[x-1]!=\" \"):\n",
    "                    print(\"position is filled please choose other\")\n",
    "                elif(secondplayermark=='X'):\n",
    "                    turns+=1\n",
    "                    X[x-1]='X'\n",
    "                    boar(X)\n",
    "                elif(secondplayermark=='O'):\n",
    "                    turns+=1\n",
    "                    X[x-1]='O'\n",
    "                    boar(X)\n",
    "            elif(turns==10):\n",
    "                print('Match Drawn')\n",
    "                k=[]\n",
    "                k=input('Do You wanna play one time? if yes choose \"Y\" else no \"N\"')\n",
    "                if(k=='Y'):\n",
    "                    input_1_9()\n",
    "                elif(k=='N'):\n",
    "                    print('Thanks')"
   ]
  },
  {
   "cell_type": "code",
   "execution_count": 2,
   "metadata": {},
   "outputs": [
    {
     "name": "stdout",
     "output_type": "stream",
     "text": [
      "     |     |     \n",
      "  O  |  X  |  X  \n",
      "     |     |     \n",
      "_ _ _ _ _ _ _ _ _\n",
      "     |     |     \n",
      "  O  |  X  |  O  \n",
      "     |     |     \n",
      "_ _ _ _ _ _ _ _ _\n",
      "     |     |     \n",
      "  X  |  O  |  X  \n",
      "     |     |     \n",
      "10\n",
      "Congratulations to player 1, you won\n",
      "Do You wanna play one time? if yes choose \"Y\" else no \"N\"N\n",
      "Thanks\n"
     ]
    }
   ],
   "source": [
    "input_1_9()"
   ]
  },
  {
   "cell_type": "code",
   "execution_count": 33,
   "metadata": {},
   "outputs": [],
   "source": [
    "class Dinesh():\n",
    "    def __init__(self,name,age):\n",
    "        self.name=name\n",
    "        self.age=age\n",
    "        "
   ]
  },
  {
   "cell_type": "code",
   "execution_count": 34,
   "metadata": {},
   "outputs": [],
   "source": [
    "dinu= Dinesh(name='divakar',age=22)\n",
    "    \n",
    "    "
   ]
  },
  {
   "cell_type": "code",
   "execution_count": 35,
   "metadata": {},
   "outputs": [
    {
     "data": {
      "text/plain": [
       "22"
      ]
     },
     "execution_count": 35,
     "metadata": {},
     "output_type": "execute_result"
    }
   ],
   "source": [
    "dinu.age"
   ]
  },
  {
   "cell_type": "code",
   "execution_count": 43,
   "metadata": {},
   "outputs": [],
   "source": [
    "class Name(Dinesh):\n",
    "    def __init__(self,name,age):\n",
    "        Dinesh.__init__(self,name,age)"
   ]
  },
  {
   "cell_type": "code",
   "execution_count": 44,
   "metadata": {},
   "outputs": [],
   "source": [
    "myname = Name('Dinesh',23)"
   ]
  },
  {
   "cell_type": "code",
   "execution_count": 45,
   "metadata": {},
   "outputs": [
    {
     "data": {
      "text/plain": [
       "23"
      ]
     },
     "execution_count": 45,
     "metadata": {},
     "output_type": "execute_result"
    }
   ],
   "source": [
    "myname.age"
   ]
  },
  {
   "cell_type": "code",
   "execution_count": null,
   "metadata": {},
   "outputs": [],
   "source": []
  }
 ],
 "metadata": {
  "kernelspec": {
   "display_name": "Python 3",
   "language": "python",
   "name": "python3"
  },
  "language_info": {
   "codemirror_mode": {
    "name": "ipython",
    "version": 3
   },
   "file_extension": ".py",
   "mimetype": "text/x-python",
   "name": "python",
   "nbconvert_exporter": "python",
   "pygments_lexer": "ipython3",
   "version": "3.6.4"
  }
 },
 "nbformat": 4,
 "nbformat_minor": 2
}
