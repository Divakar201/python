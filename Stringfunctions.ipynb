{
 "cells": [
  {
   "cell_type": "code",
   "execution_count": 1,
   "metadata": {},
   "outputs": [],
   "source": []
  },
  {
   "cell_type": "code",
   "execution_count": 22,
   "metadata": {},
   "outputs": [
    {
     "data": {
      "text/plain": [
       "'HELLOWORLD'"
      ]
     },
     "execution_count": 22,
     "metadata": {},
     "output_type": "execute_result"
    }
   ],
   "source": [
    "s.capitalize()  \n",
    "s.upper()"
   ]
  },
  {
   "cell_type": "code",
   "execution_count": 53,
   "metadata": {},
   "outputs": [],
   "source": [
    "def lk(s):\n",
    "    m=[]\n",
    "    print(len(s))\n",
    "    for k in range(0,len(s),1):      \n",
    "        for i in s:\n",
    "            if k%2==0:\n",
    "                m.append(i.upper())\n",
    "            elif k%2!=0:\n",
    "                m.append(i.lower())\n",
    "            else:\n",
    "                pass\n",
    "                \n",
    "    return m"
   ]
  },
  {
   "cell_type": "code",
   "execution_count": 54,
   "metadata": {},
   "outputs": [
    {
     "name": "stdout",
     "output_type": "stream",
     "text": [
      "2\n"
     ]
    },
    {
     "data": {
      "text/plain": [
       "['H', 'I', 'h', 'i']"
      ]
     },
     "execution_count": 54,
     "metadata": {},
     "output_type": "execute_result"
    }
   ],
   "source": [
    "lk('hi')\n"
   ]
  },
  {
   "cell_type": "code",
   "execution_count": 66,
   "metadata": {},
   "outputs": [],
   "source": [
    "def code(a,b,c):\n",
    "    if(a==b==c):\n",
    "        print(\"A,B,C ins\")\n",
    "    elif(a==b):\n",
    "        if(a>c):\n",
    "            print(\"A,B Wins\")\n",
    "        else:\n",
    "            print(\"C Wins\")\n",
    "    elif(a==c):\n",
    "        if(a>b):\n",
    "            print(\"A,C Wins\")\n",
    "        else:\n",
    "            print(\"B Wins\")\n",
    "    elif(b==c):\n",
    "        if(b>a):\n",
    "            print(\"B,C Wins\")\n",
    "        else:\n",
    "            print(\"A wins\")\n",
    "    else:\n",
    "        if(a>b):\n",
    "            if(a>c):\n",
    "                print(\"A Wins\")\n",
    "            else:\n",
    "                print(\"C Wins\")\n",
    "        elif(b>c):\n",
    "            print(\"B Wins\")\n",
    "        else:\n",
    "            print(\"C W\")max\n",
    "        "
   ]
  },
  {
   "cell_type": "code",
   "execution_count": 76,
   "metadata": {},
   "outputs": [
    {
     "name": "stdout",
     "output_type": "stream",
     "text": [
      "C wins\n"
     ]
    }
   ],
   "source": [
    "code(1,2,3)"
   ]
  },
  {
   "cell_type": "code",
   "execution_count": 59,
   "metadata": {},
   "outputs": [
    {
     "name": "stdout",
     "output_type": "stream",
     "text": [
      "None\n"
     ]
    }
   ],
   "source": [
    "print(x)"
   ]
  },
  {
   "cell_type": "code",
   "execution_count": null,
   "metadata": {},
   "outputs": [],
   "source": [
    "lk('divakar')\n",
    "dIvAkAr\n",
    "DiVaKaR\n",
    "st=\"Divakar\"\n",
    "st."
   ]
  }
 ],
 "metadata": {
  "kernelspec": {
   "display_name": "Python 3",
   "language": "python",
   "name": "python3"
  },
  "language_info": {
   "codemirror_mode": {
    "name": "ipython",
    "version": 3
   },
   "file_extension": ".py",
   "mimetype": "text/x-python",
   "name": "python",
   "nbconvert_exporter": "python",
   "pygments_lexer": "ipython3",
   "version": "3.6.4"
  }
 },
 "nbformat": 4,
 "nbformat_minor": 2
}
